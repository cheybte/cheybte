{
  "nbformat": 4,
  "nbformat_minor": 0,
  "metadata": {
    "colab": {
      "provenance": [],
      "authorship_tag": "ABX9TyMb30GOKcmrflto43v/vBZK",
      "include_colab_link": true
    },
    "kernelspec": {
      "name": "python3",
      "display_name": "Python 3"
    },
    "language_info": {
      "name": "python"
    }
  },
  "cells": [
    {
      "cell_type": "markdown",
      "metadata": {
        "id": "view-in-github",
        "colab_type": "text"
      },
      "source": [
        "<a href=\"https://colab.research.google.com/github/cheybte/cheybte/blob/main/projet_AI.ipynb\" target=\"_parent\"><img src=\"https://colab.research.google.com/assets/colab-badge.svg\" alt=\"Open In Colab\"/></a>"
      ]
    },
    {
      "cell_type": "markdown",
      "source": [
        "🎯 Objectif du projet\n",
        "Créer un assistant intelligent qui peut répondre à des questions agricoles (ex. : \"Comment traiter une plante malade ?\") en utilisant une base de documents agricoles.\n",
        "Ce système s'appelle RAG : Retrieval-Augmented Generation, car il cherche dans une base de données avant de générer une réponse"
      ],
      "metadata": {
        "id": "WNI6N8BtXYXz"
      }
    },
    {
      "cell_type": "code",
      "source": [
        "pip install wikipedia\n"
      ],
      "metadata": {
        "colab": {
          "base_uri": "https://localhost:8080/"
        },
        "id": "MVbGthS0XaRg",
        "outputId": "9d2a96c3-3455-4136-b9b3-d3c8d1361da8"
      },
      "execution_count": null,
      "outputs": [
        {
          "output_type": "stream",
          "name": "stdout",
          "text": [
            "Collecting wikipedia\n",
            "  Downloading wikipedia-1.4.0.tar.gz (27 kB)\n",
            "  Preparing metadata (setup.py) ... \u001b[?25l\u001b[?25hdone\n",
            "Requirement already satisfied: beautifulsoup4 in /usr/local/lib/python3.11/dist-packages (from wikipedia) (4.13.4)\n",
            "Requirement already satisfied: requests<3.0.0,>=2.0.0 in /usr/local/lib/python3.11/dist-packages (from wikipedia) (2.32.3)\n",
            "Requirement already satisfied: charset-normalizer<4,>=2 in /usr/local/lib/python3.11/dist-packages (from requests<3.0.0,>=2.0.0->wikipedia) (3.4.2)\n",
            "Requirement already satisfied: idna<4,>=2.5 in /usr/local/lib/python3.11/dist-packages (from requests<3.0.0,>=2.0.0->wikipedia) (3.10)\n",
            "Requirement already satisfied: urllib3<3,>=1.21.1 in /usr/local/lib/python3.11/dist-packages (from requests<3.0.0,>=2.0.0->wikipedia) (2.4.0)\n",
            "Requirement already satisfied: certifi>=2017.4.17 in /usr/local/lib/python3.11/dist-packages (from requests<3.0.0,>=2.0.0->wikipedia) (2025.4.26)\n",
            "Requirement already satisfied: soupsieve>1.2 in /usr/local/lib/python3.11/dist-packages (from beautifulsoup4->wikipedia) (2.7)\n",
            "Requirement already satisfied: typing-extensions>=4.0.0 in /usr/local/lib/python3.11/dist-packages (from beautifulsoup4->wikipedia) (4.13.2)\n",
            "Building wheels for collected packages: wikipedia\n",
            "  Building wheel for wikipedia (setup.py) ... \u001b[?25l\u001b[?25hdone\n",
            "  Created wheel for wikipedia: filename=wikipedia-1.4.0-py3-none-any.whl size=11678 sha256=159a6fa1c78f6f01189855413026736c15040051a78c67c4606b375686adc3e1\n",
            "  Stored in directory: /root/.cache/pip/wheels/8f/ab/cb/45ccc40522d3a1c41e1d2ad53b8f33a62f394011ec38cd71c6\n",
            "Successfully built wikipedia\n",
            "Installing collected packages: wikipedia\n",
            "Successfully installed wikipedia-1.4.0\n"
          ]
        }
      ]
    },
    {
      "cell_type": "code",
      "source": [
        "from google.colab import drive\n",
        "drive.mount('/content/drive')\n"
      ],
      "metadata": {
        "colab": {
          "base_uri": "https://localhost:8080/"
        },
        "id": "53jNsReOjiOY",
        "outputId": "2c116d21-38e7-4725-fc2d-f54bce113f4c"
      },
      "execution_count": 1,
      "outputs": [
        {
          "output_type": "stream",
          "name": "stdout",
          "text": [
            "Mounted at /content/drive\n"
          ]
        }
      ]
    },
    {
      "cell_type": "code",
      "source": [
        "!pip install wikipedia\n"
      ],
      "metadata": {
        "colab": {
          "base_uri": "https://localhost:8080/"
        },
        "id": "_9mlXVdNjiRe",
        "outputId": "aede1414-65d5-463b-8c2f-67fa16172a30"
      },
      "execution_count": null,
      "outputs": [
        {
          "output_type": "stream",
          "name": "stdout",
          "text": [
            "Requirement already satisfied: wikipedia in /usr/local/lib/python3.11/dist-packages (1.4.0)\n",
            "Requirement already satisfied: beautifulsoup4 in /usr/local/lib/python3.11/dist-packages (from wikipedia) (4.13.4)\n",
            "Requirement already satisfied: requests<3.0.0,>=2.0.0 in /usr/local/lib/python3.11/dist-packages (from wikipedia) (2.32.3)\n",
            "Requirement already satisfied: charset-normalizer<4,>=2 in /usr/local/lib/python3.11/dist-packages (from requests<3.0.0,>=2.0.0->wikipedia) (3.4.2)\n",
            "Requirement already satisfied: idna<4,>=2.5 in /usr/local/lib/python3.11/dist-packages (from requests<3.0.0,>=2.0.0->wikipedia) (3.10)\n",
            "Requirement already satisfied: urllib3<3,>=1.21.1 in /usr/local/lib/python3.11/dist-packages (from requests<3.0.0,>=2.0.0->wikipedia) (2.4.0)\n",
            "Requirement already satisfied: certifi>=2017.4.17 in /usr/local/lib/python3.11/dist-packages (from requests<3.0.0,>=2.0.0->wikipedia) (2025.4.26)\n",
            "Requirement already satisfied: soupsieve>1.2 in /usr/local/lib/python3.11/dist-packages (from beautifulsoup4->wikipedia) (2.7)\n",
            "Requirement already satisfied: typing-extensions>=4.0.0 in /usr/local/lib/python3.11/dist-packages (from beautifulsoup4->wikipedia) (4.13.2)\n"
          ]
        }
      ]
    },
    {
      "cell_type": "code",
      "source": [
        "import wikipedia\n",
        "import os\n",
        "\n",
        "# Définir la langue en français\n",
        "wikipedia.set_lang(\"fr\")\n",
        "\n",
        "# Liste des articles à télécharger\n",
        "titres = [\"Irrigation\", \"Agriculture biologique\", \"Mildiou\", \"Riziculture\"]\n",
        "\n",
        "# Dossier dans Google Drive (tu peux le modifier)\n",
        "dossier_drive = \"/content/drive/MyDrive/Articles_Wikipedia_Agriculture\"\n",
        "os.makedirs(dossier_drive, exist_ok=True)\n",
        "\n",
        "# Boucle pour télécharger et enregistrer chaque article\n",
        "for titre in titres:\n",
        "    try:\n",
        "        contenu = wikipedia.page(titre).content\n",
        "        chemin_fichier = os.path.join(dossier_drive, f\"{titre.replace(' ', '_')}.txt\")\n",
        "        with open(chemin_fichier, \"w\", encoding=\"utf-8\") as f:\n",
        "            f.write(contenu)\n",
        "        print(f\"✅ {titre} enregistré dans {chemin_fichier}\")\n",
        "    except Exception as e:\n",
        "        print(f\"❌ Erreur avec l'article '{titre}' : {e}\")\n"
      ],
      "metadata": {
        "colab": {
          "base_uri": "https://localhost:8080/"
        },
        "id": "_n6HX4cWjiUf",
        "outputId": "4e0b86cc-1212-4003-e8ac-8adf727b24b3"
      },
      "execution_count": null,
      "outputs": [
        {
          "output_type": "stream",
          "name": "stdout",
          "text": [
            "✅ Irrigation enregistré dans /content/drive/MyDrive/Articles_Wikipedia_Agriculture/Irrigation.txt\n",
            "✅ Agriculture biologique enregistré dans /content/drive/MyDrive/Articles_Wikipedia_Agriculture/Agriculture_biologique.txt\n",
            "✅ Mildiou enregistré dans /content/drive/MyDrive/Articles_Wikipedia_Agriculture/Mildiou.txt\n",
            "✅ Riziculture enregistré dans /content/drive/MyDrive/Articles_Wikipedia_Agriculture/Riziculture.txt\n"
          ]
        }
      ]
    },
    {
      "cell_type": "code",
      "source": [
        "# Chemin du fichier (modifie le nom si nécessaire)\n",
        "chemin_fichier = \"/content/drive/MyDrive/Articles_Wikipedia_Agriculture/Agriculture_biologique.txt\"\n",
        "\n",
        "# Compter les mots\n",
        "with open(chemin_fichier, \"r\", encoding=\"utf-8\") as f:\n",
        "    contenu = f.read()\n",
        "    mots = contenu.split()\n",
        "    nombre_de_mots = len(mots)\n",
        "\n",
        "print(f\"📝 Le fichier contient {nombre_de_mots} mots.\")\n"
      ],
      "metadata": {
        "colab": {
          "base_uri": "https://localhost:8080/"
        },
        "id": "r999VvTDjiX0",
        "outputId": "c4008485-c70e-49dc-c5ca-f649fd75dbe5"
      },
      "execution_count": null,
      "outputs": [
        {
          "output_type": "stream",
          "name": "stdout",
          "text": [
            "📝 Le fichier contient 19100 mots.\n"
          ]
        }
      ]
    },
    {
      "cell_type": "code",
      "source": [
        "# Chemin du fichier (modifie le nom si nécessaire)\n",
        "chemin_fichier = \"/content/drive/MyDrive/Articles_Wikipedia_Agriculture/Irrigation.txt\"\n",
        "\n",
        "# Compter les mots\n",
        "with open(chemin_fichier, \"r\", encoding=\"utf-8\") as f:\n",
        "    contenu = f.read()\n",
        "    mots = contenu.split()\n",
        "    nombre_de_mots = len(mots)\n",
        "\n",
        "print(f\"📝 Le fichier contient {nombre_de_mots} mots.\")\n"
      ],
      "metadata": {
        "colab": {
          "base_uri": "https://localhost:8080/"
        },
        "id": "ufy71kFgjiay",
        "outputId": "0c736c67-cdea-48dc-b30b-3f832b9381c7"
      },
      "execution_count": null,
      "outputs": [
        {
          "output_type": "stream",
          "name": "stdout",
          "text": [
            "📝 Le fichier contient 4790 mots.\n"
          ]
        }
      ]
    },
    {
      "cell_type": "code",
      "source": [
        "# Chemin du fichier (modifie le nom si nécessaire)\n",
        "chemin_fichier = \"/content/drive/MyDrive/Articles_Wikipedia_Agriculture/Mildiou.txt\"\n",
        "\n",
        "# Compter les mots\n",
        "with open(chemin_fichier, \"r\", encoding=\"utf-8\") as f:\n",
        "    contenu = f.read()\n",
        "    mots = contenu.split()\n",
        "    nombre_de_mots = len(mots)\n",
        "\n",
        "print(f\"📝 Le fichier contient {nombre_de_mots} mots.\")\n"
      ],
      "metadata": {
        "colab": {
          "base_uri": "https://localhost:8080/"
        },
        "id": "NuIREGftjjBn",
        "outputId": "f8a27a14-7953-4579-f17a-c21811331b9a"
      },
      "execution_count": null,
      "outputs": [
        {
          "output_type": "stream",
          "name": "stdout",
          "text": [
            "📝 Le fichier contient 1392 mots.\n"
          ]
        }
      ]
    },
    {
      "cell_type": "code",
      "source": [
        "# Chemin du fichier (modifie le nom si nécessaire)\n",
        "chemin_fichier = \"/content/drive/MyDrive/Articles_Wikipedia_Agriculture/Riziculture.txt\"\n",
        "\n",
        "# Compter les mots\n",
        "with open(chemin_fichier, \"r\", encoding=\"utf-8\") as f:\n",
        "    contenu = f.read()\n",
        "    mots = contenu.split()\n",
        "    nombre_de_mots = len(mots)\n",
        "\n",
        "print(f\"📝 Le fichier contient {nombre_de_mots} mots.\")\n"
      ],
      "metadata": {
        "colab": {
          "base_uri": "https://localhost:8080/"
        },
        "id": "rDYj_oFljjDo",
        "outputId": "2e6eb331-97b6-43f6-919a-6e63a22ccfed"
      },
      "execution_count": null,
      "outputs": [
        {
          "output_type": "stream",
          "name": "stdout",
          "text": [
            "📝 Le fichier contient 2250 mots.\n"
          ]
        }
      ]
    },
    {
      "cell_type": "code",
      "source": [],
      "metadata": {
        "id": "5D06roi6jjGw"
      },
      "execution_count": null,
      "outputs": []
    },
    {
      "cell_type": "code",
      "source": [],
      "metadata": {
        "id": "YrgEB8TPjjKr"
      },
      "execution_count": null,
      "outputs": []
    }
  ]
}